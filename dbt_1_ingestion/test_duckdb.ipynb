{
 "cells": [
  {
   "cell_type": "code",
   "execution_count": 1,
   "metadata": {},
   "outputs": [],
   "source": [
    "import duckdb\n",
    "import pandas as pd\n",
    "\n",
    "# Path to your DuckDB database file\n",
    "duckdb_file_path = '/workspace/databases/dev.duckdb'"
   ]
  },
  {
   "cell_type": "code",
   "execution_count": 2,
   "metadata": {},
   "outputs": [
    {
     "name": "stdout",
     "output_type": "stream",
     "text": [
      "Databases:\n",
      "  database_name\n",
      "0           dev\n"
     ]
    }
   ],
   "source": [
    "# Use a context manager to handle the DuckDB connection\n",
    "with duckdb.connect(duckdb_file_path) as con:\n",
    "    # Query all schemas\n",
    "    query_dbs = \"SHOW DATABASES;\"\n",
    "    dbs = con.execute(query_dbs).fetchdf()\n",
    "    \n",
    "    # Print the DataFrame of schemas\n",
    "    print(\"Databases:\")\n",
    "    print(dbs)"
   ]
  },
  {
   "cell_type": "code",
   "execution_count": 3,
   "metadata": {},
   "outputs": [
    {
     "name": "stdout",
     "output_type": "stream",
     "text": [
      "Schemas:\n",
      "  catalog_name         schema_name schema_owner default_character_set_catalog  \\\n",
      "0          dev            dbt_caio       duckdb                          None   \n",
      "1          dev  information_schema       duckdb                          None   \n",
      "2          dev                main       duckdb                          None   \n",
      "3          dev          pg_catalog       duckdb                          None   \n",
      "4       system  information_schema       duckdb                          None   \n",
      "5       system                main       duckdb                          None   \n",
      "6       system          pg_catalog       duckdb                          None   \n",
      "7         temp  information_schema       duckdb                          None   \n",
      "8         temp                main       duckdb                          None   \n",
      "9         temp          pg_catalog       duckdb                          None   \n",
      "\n",
      "  default_character_set_schema default_character_set_name sql_path  \n",
      "0                         None                       None     None  \n",
      "1                         None                       None     None  \n",
      "2                         None                       None     None  \n",
      "3                         None                       None     None  \n",
      "4                         None                       None     None  \n",
      "5                         None                       None     None  \n",
      "6                         None                       None     None  \n",
      "7                         None                       None     None  \n",
      "8                         None                       None     None  \n",
      "9                         None                       None     None  \n",
      "\n",
      "Tables:\n",
      "  table_schema            table_name\n",
      "0     dbt_caio             customers\n",
      "1     dbt_caio                 dates\n",
      "2     dbt_caio              products\n",
      "3     dbt_caio         product_usage\n",
      "4     dbt_caio         subscriptions\n",
      "5     dbt_caio  support_interactions\n"
     ]
    }
   ],
   "source": [
    "# Use a context manager to handle the DuckDB connection\n",
    "with duckdb.connect(duckdb_file_path) as con:\n",
    "    # Query all schemas\n",
    "    query_schemas = \"SELECT * FROM information_schema.schemata\"\n",
    "    schemas = con.execute(query_schemas).fetchdf()\n",
    "    \n",
    "    # Print the DataFrame of schemas\n",
    "    print(\"Schemas:\")\n",
    "    print(schemas)\n",
    "    \n",
    "    # Query all tables in each schema\n",
    "    query_tables = \"\"\"\n",
    "    SELECT table_schema, table_name \n",
    "    FROM information_schema.tables \n",
    "    WHERE table_schema IN (SELECT schema_name FROM information_schema.schemata)\n",
    "    \"\"\"\n",
    "    tables = con.execute(query_tables).fetchdf()\n",
    "    \n",
    "    # Print the DataFrame of tables\n",
    "    print(\"\\nTables:\")\n",
    "    print(tables)\n",
    "\n"
   ]
  },
  {
   "cell_type": "code",
   "execution_count": 5,
   "metadata": {},
   "outputs": [
    {
     "ename": "HTTPException",
     "evalue": "HTTP Error: HTTP GET error on 'https://dbt-duckdb-ingestion-s3-parquet.s3.amazonaws.com/customers/customers.parquet' (HTTP 403)",
     "output_type": "error",
     "traceback": [
      "\u001b[0;31m---------------------------------------------------------------------------\u001b[0m",
      "\u001b[0;31mHTTPException\u001b[0m                             Traceback (most recent call last)",
      "Cell \u001b[0;32mIn[5], line 16\u001b[0m\n\u001b[1;32m     14\u001b[0m         \u001b[38;5;28mprint\u001b[39m(\u001b[38;5;124m\"\u001b[39m\u001b[38;5;124mNo records found in the customers table.\u001b[39m\u001b[38;5;124m\"\u001b[39m)\n\u001b[1;32m     15\u001b[0m \u001b[38;5;28;01melse\u001b[39;00m:\n\u001b[0;32m---> 16\u001b[0m     \u001b[38;5;28mprint\u001b[39m(\u001b[38;5;124m\"\u001b[39m\u001b[38;5;124mThe \u001b[39m\u001b[38;5;124m'\u001b[39m\u001b[38;5;124mdbt_caio\u001b[39m\u001b[38;5;124m'\u001b[39m\u001b[38;5;124m schema does not exist.\u001b[39m\u001b[38;5;124m\"\u001b[39m)\n",
      "Cell \u001b[0;32mIn[5], line 8\u001b[0m\n\u001b[1;32m      5\u001b[0m \u001b[38;5;28;01mif\u001b[39;00m schema_exists:\n\u001b[1;32m      6\u001b[0m     \u001b[38;5;66;03m# Query the table created by dbt\u001b[39;00m\n\u001b[1;32m      7\u001b[0m     query \u001b[38;5;241m=\u001b[39m \u001b[38;5;124m\"\u001b[39m\u001b[38;5;124mSELECT * FROM dbt_caio.customers LIMIT 5\u001b[39m\u001b[38;5;124m\"\u001b[39m\n\u001b[0;32m----> 8\u001b[0m     result \u001b[38;5;241m=\u001b[39m \u001b[43mcon\u001b[49m\u001b[38;5;241;43m.\u001b[39;49m\u001b[43mexecute\u001b[49m\u001b[43m(\u001b[49m\u001b[43mquery\u001b[49m\u001b[43m)\u001b[49m\u001b[38;5;241m.\u001b[39mfetchdf()\n\u001b[1;32m     10\u001b[0m     \u001b[38;5;66;03m# Check if the result is not empty and print the DataFrame\u001b[39;00m\n\u001b[1;32m     11\u001b[0m     \u001b[38;5;28;01mif\u001b[39;00m \u001b[38;5;129;01mnot\u001b[39;00m result\u001b[38;5;241m.\u001b[39mempty:\n",
      "\u001b[0;31mHTTPException\u001b[0m: HTTP Error: HTTP GET error on 'https://dbt-duckdb-ingestion-s3-parquet.s3.amazonaws.com/customers/customers.parquet' (HTTP 403)"
     ]
    }
   ],
   "source": [
    "# Check if an schema exists\n",
    "with duckdb.connect(duckdb_file_path) as con:\n",
    "    schema_check_query = \"SELECT schema_name FROM information_schema.schemata WHERE schema_name = 'dbt_caio'\"\n",
    "    schema_exists = con.execute(schema_check_query).fetchone()\n",
    "    if schema_exists:\n",
    "        # Query the table created by dbt\n",
    "        query = \"SELECT * FROM dbt_caio.customers LIMIT 5\"\n",
    "        result = con.execute(query).fetchdf()\n",
    "\n",
    "        # Check if the result is not empty and print the DataFrame\n",
    "        if not result.empty:\n",
    "            print(result)\n",
    "        else:\n",
    "            print(\"No records found in the customers table.\")\n",
    "    else:\n",
    "        print(\"The 'dbt_caio' schema does not exist.\")"
   ]
  },
  {
   "cell_type": "code",
   "execution_count": null,
   "metadata": {},
   "outputs": [],
   "source": [
    "# Use a context manager to handle the DuckDB connection\n",
    "# with duckdb.connect(duckdb_file_path) as con:\n",
    "#     # Query to delete tables\n",
    "#     # query_delete_bronze = \"DROP SCHEMA raw CASCADE;\"\n",
    "#     query_delete_dbt_caio = \"DROP SCHEMA dbt_caio CASCADE;\"\n",
    "#     # query_delete_bronze = \"DROP SCHEMA bronze CASCADE;\"\n",
    "#     # query_delete_silver = \"DROP SCHEMA silver CASCADE;\"\n",
    "#     # query_delete_gold = \"DROP SCHEMA gold CASCADE;\"\n",
    "#     con.execute(query_delete_dbt_caio)\n",
    "#     # con.execute(query_delete_bronze)\n",
    "#     # con.execute(query_delete_silver)\n",
    "#     # con.execute(query_delete_gold)"
   ]
  }
 ],
 "metadata": {
  "kernelspec": {
   "display_name": "Python 3",
   "language": "python",
   "name": "python3"
  },
  "language_info": {
   "codemirror_mode": {
    "name": "ipython",
    "version": 3
   },
   "file_extension": ".py",
   "mimetype": "text/x-python",
   "name": "python",
   "nbconvert_exporter": "python",
   "pygments_lexer": "ipython3",
   "version": "3.9.13"
  }
 },
 "nbformat": 4,
 "nbformat_minor": 2
}
